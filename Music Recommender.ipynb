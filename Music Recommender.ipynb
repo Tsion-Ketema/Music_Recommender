{
 "cells": [
  {
   "cell_type": "code",
   "execution_count": null,
   "id": "9f65ba90-2d8c-4e46-a746-b7a6fecbc2bf",
   "metadata": {},
   "outputs": [],
   "source": [
    "# We need to import the important libraries first \n",
    "# In this project I import the pandas library since I need to work with dataframes.\n",
    "# Using this library I imported the read_csv function to import the csv file.\n",
    "import pandas as pd\n",
    "# We have to import the desion tree algorithm to train our model.\n",
    "from sklearn.tree import DecisionTreeClassifier\n",
    "# Since we need to split our data we need to call the function train_test_split.\n",
    "from sklearn.model_selection import train_test_split\n",
    "# We need to import the function accuracy_score to view how well the model performs.\n",
    "from sklearn.metrics import accuracy_score \n",
    "# This is joblib object that helps us to save the trained model so that we can use it later.\n",
    "import joblib\n",
    "# we imported the tree object to visulaize how the model works\n",
    "from sklearn import tree \n",
    "music_data =pd.read_csv('music.csv')\n"
   ]
  },
  {
   "cell_type": "code",
   "execution_count": null,
   "id": "cf48af99-6d8a-4a5a-82b1-1a103767a7c8",
   "metadata": {},
   "outputs": [],
   "source": [
    "# See how the data looks like\n",
    "music_data"
   ]
  },
  {
   "cell_type": "code",
   "execution_count": null,
   "id": "da019ddb-5aa6-41a3-94ff-117fedd279f8",
   "metadata": {},
   "outputs": [],
   "source": [
    "# We need to split our input data and the expected output data we get and \n",
    "# assign it interms of x and y......x represent the age and gender and y \n",
    "# represent the output(the music type).\n",
    "X = music_data.drop(columns=['genre'])\n",
    "y = music_data['genre']\n",
    "# right after we split the input and output features we have to split our train and test dataset.\n",
    "X_train, X_test, y_train, y_test = train_test_split(X, y, test_size=0.2)\n",
    "# Creating instance of the above chosen algorithm (which indirectly means creating the model).\n",
    "model = DecisionTreeClassifier()\n",
    "# Start training our model by passing through the random training data that model chooses.\n",
    "model.fit(X_train,y_train)\n",
    "# Testing our model by passing through the expected result and the actual result we expect to get.\n",
    "prediction = model.predict(X_test)\n",
    "# Accuracy score tells us how well our model predict by using the actual result and the expected result we expect to get.\n",
    "score = accuracy_score(y_test,prediction)\n",
    "score\n",
    "# prediction"
   ]
  }
 ],
 "metadata": {
  "kernelspec": {
   "display_name": "Python 3",
   "language": "python",
   "name": "python3"
  },
  "language_info": {
   "codemirror_mode": {
    "name": "ipython",
    "version": 3
   },
   "file_extension": ".py",
   "mimetype": "text/x-python",
   "name": "python",
   "nbconvert_exporter": "python",
   "pygments_lexer": "ipython3",
   "version": "3.11.5"
  }
 },
 "nbformat": 4,
 "nbformat_minor": 5
}
