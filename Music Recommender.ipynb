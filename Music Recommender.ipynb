{
 "cells": [
  {
   "cell_type": "code",
   "execution_count": null,
   "id": "9f65ba90-2d8c-4e46-a746-b7a6fecbc2bf",
   "metadata": {},
   "outputs": [],
   "source": [
    "# We need to import important libraries first \n",
    "# In this project I import the pandas dataset since I need to work with dataframes.\n",
    "# Using this library I imported the read_csv function to import the csv file.\n",
    "import pandas as pd\n",
    "# We have to import the desion tree algorithm to train our model\n",
    "from sklearn.tree import DecisionTreeClassifier\n",
    "# Since we need to split our data we need to call the function train_test_split\n",
    "from sklearn.model_selection import train_test_split\n",
    "# We need to import the function accuracy_score\n",
    "from sklearn.metrics import accuracy_score \n",
    "# This is joblib object that helps us to save the trained model so that we can use it later.\n",
    "import joblib\n",
    "from sklearn import tree \n",
    "music_data =pd.read_csv('music.csv')\n"
   ]
  },
  {
   "cell_type": "code",
   "execution_count": null,
   "id": "cf48af99-6d8a-4a5a-82b1-1a103767a7c8",
   "metadata": {},
   "outputs": [],
   "source": [
    "# See how the data looks like\n",
    "music_data"
   ]
  },
  {
   "cell_type": "code",
   "execution_count": 13,
   "id": "da019ddb-5aa6-41a3-94ff-117fedd279f8",
   "metadata": {},
   "outputs": [
    {
     "data": {
      "text/plain": [
       "1.0"
      ]
     },
     "execution_count": 13,
     "metadata": {},
     "output_type": "execute_result"
    }
   ],
   "source": [
    "# We need to split our input data and the expected output data we get and \n",
    "# assign it interms of x and y......x represent the age and gender and y \n",
    "# represent the output(the music type).\n",
    "X = music_data.drop(columns=['genre'])\n",
    "y = music_data['genre']\n",
    "# right after we split the input and output features we have to split our train and test dataset.\n",
    "X_train, X_test, y_train, y_test = train_test_split(X, y, test_size=0.2)\n",
    "# Creating instance of this algorithm which is our model.\n",
    "model = DecisionTreeClassifier()\n",
    "# Start training out model by passing through the random training data we need to train the model.\n",
    "model.fit(X_train,y_train)\n",
    "# Testing our model by passing through the expected result and the actual result we supposed to get.\n",
    "prediction = model.predict(X_test)\n",
    "# Accuracy score is how well our model predict by using the actual result and the expected result we supposed to get.\n",
    "score = accuracy_score(y_test,prediction)\n",
    "score\n",
    "# prediction"
   ]
  },
  {
   "cell_type": "code",
   "execution_count": null,
   "id": "580c6fb7-a16d-4fc9-8317-4bd1ebc79d5b",
   "metadata": {},
   "outputs": [],
   "source": []
  },
  {
   "cell_type": "code",
   "execution_count": null,
   "id": "f4980a4f-be5e-4e17-9fd2-c83bb9129391",
   "metadata": {},
   "outputs": [],
   "source": []
  },
  {
   "cell_type": "code",
   "execution_count": null,
   "id": "be78184f-f411-4790-953d-075bb4634b62",
   "metadata": {},
   "outputs": [],
   "source": []
  }
 ],
 "metadata": {
  "kernelspec": {
   "display_name": "Python 3 (ipykernel)",
   "language": "python",
   "name": "python3"
  },
  "language_info": {
   "codemirror_mode": {
    "name": "ipython",
    "version": 3
   },
   "file_extension": ".py",
   "mimetype": "text/x-python",
   "name": "python",
   "nbconvert_exporter": "python",
   "pygments_lexer": "ipython3",
   "version": "3.11.5"
  }
 },
 "nbformat": 4,
 "nbformat_minor": 5
}
